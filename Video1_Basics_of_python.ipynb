{
  "nbformat": 4,
  "nbformat_minor": 0,
  "metadata": {
    "colab": {
      "provenance": [],
      "authorship_tag": "ABX9TyPKn4jyHPovIqjY94YtkFI6",
      "include_colab_link": true
    },
    "kernelspec": {
      "name": "python3",
      "display_name": "Python 3"
    },
    "language_info": {
      "name": "python"
    }
  },
  "cells": [
    {
      "cell_type": "markdown",
      "metadata": {
        "id": "view-in-github",
        "colab_type": "text"
      },
      "source": [
        "<a href=\"https://colab.research.google.com/github/Yashsharm20021409/MachineLearning_Complete/blob/main/Video1_Basics_of_python.ipynb\" target=\"_parent\"><img src=\"https://colab.research.google.com/assets/colab-badge.svg\" alt=\"Open In Colab\"/></a>"
      ]
    },
    {
      "cell_type": "markdown",
      "source": [
        "Let's start this journary to learn machine learning"
      ],
      "metadata": {
        "id": "pXZ6RENf7Z30"
      }
    },
    {
      "cell_type": "code",
      "execution_count": null,
      "metadata": {
        "colab": {
          "base_uri": "https://localhost:8080/"
        },
        "id": "9Ztg9sUC64xk",
        "outputId": "0d4b228c-49d9-4301-f1c3-74bc9aa83760"
      },
      "outputs": [
        {
          "output_type": "stream",
          "name": "stdout",
          "text": [
            "Hello guys\n",
            "2\n"
          ]
        }
      ],
      "source": [
        "print('Hello guys')\n",
        "print(2)"
      ]
    },
    {
      "cell_type": "markdown",
      "source": [
        "installing libraries"
      ],
      "metadata": {
        "id": "qOdcI0-n8Vp_"
      }
    },
    {
      "cell_type": "code",
      "source": [
        "!pip install pandas\n",
        "!pip install numpy"
      ],
      "metadata": {
        "colab": {
          "base_uri": "https://localhost:8080/"
        },
        "id": "7ya6SClP8Ya_",
        "outputId": "6a63f26f-b07c-4711-b0e5-416ffab78986"
      },
      "execution_count": null,
      "outputs": [
        {
          "output_type": "stream",
          "name": "stdout",
          "text": [
            "Requirement already satisfied: pandas in /usr/local/lib/python3.10/dist-packages (1.5.3)\n",
            "Requirement already satisfied: python-dateutil>=2.8.1 in /usr/local/lib/python3.10/dist-packages (from pandas) (2.8.2)\n",
            "Requirement already satisfied: pytz>=2020.1 in /usr/local/lib/python3.10/dist-packages (from pandas) (2023.3.post1)\n",
            "Requirement already satisfied: numpy>=1.21.0 in /usr/local/lib/python3.10/dist-packages (from pandas) (1.23.5)\n",
            "Requirement already satisfied: six>=1.5 in /usr/local/lib/python3.10/dist-packages (from python-dateutil>=2.8.1->pandas) (1.16.0)\n",
            "Requirement already satisfied: numpy in /usr/local/lib/python3.10/dist-packages (1.23.5)\n"
          ]
        }
      ]
    },
    {
      "cell_type": "markdown",
      "source": [
        "python programming"
      ],
      "metadata": {
        "id": "RAN1-uIA9IMD"
      }
    },
    {
      "cell_type": "markdown",
      "source": [
        "Functions in pythons"
      ],
      "metadata": {
        "id": "s4IpnVyk9Mfj"
      }
    },
    {
      "cell_type": "code",
      "source": [
        "def factorial_val(num):\n",
        "  factorial = 1\n",
        "\n",
        "  if num == 0:\n",
        "    return factorial\n",
        "\n",
        "  else:\n",
        "    for i in range(1,num+1):\n",
        "      factorial *= i\n",
        "    return factorial\n"
      ],
      "metadata": {
        "id": "2_Xd63fd9LLU"
      },
      "execution_count": null,
      "outputs": []
    },
    {
      "cell_type": "code",
      "source": [
        "number = int(input('Enter a Number: '))\n",
        "fact = factorial_val(number)\n",
        "print(\"Factorial of given number is: \",fact)"
      ],
      "metadata": {
        "colab": {
          "base_uri": "https://localhost:8080/"
        },
        "id": "issFnE3G9yYH",
        "outputId": "65bef2fd-f1bb-4ab2-f456-0f8f02298aec"
      },
      "execution_count": null,
      "outputs": [
        {
          "output_type": "stream",
          "name": "stdout",
          "text": [
            "Enter a Number: 3\n",
            "Factorial of given number is:  6\n"
          ]
        }
      ]
    }
  ]
}